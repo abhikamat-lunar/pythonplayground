{
 "nbformat": 4,
 "nbformat_minor": 0,
 "metadata": {
  "colab": {
   "provenance": [],
   "mount_file_id": "1GAzue-a670frlRX7Z2uDrTvkPOXvAAtw",
   "authorship_tag": "ABX9TyO1gdlQOFVk40WSpNoDZM7s"
  },
  "kernelspec": {
   "name": "python3",
   "display_name": "Python 3 (ipykernel)",
   "language": "python"
  },
  "language_info": {
   "name": "python"
  }
 },
 "cells": [
  {
   "cell_type": "code",
   "source": [
    "pip install gspread\n"
   ],
   "metadata": {
    "colab": {
     "base_uri": "https://localhost:8080/"
    },
    "id": "Yp7wY6SQVhlY",
    "executionInfo": {
     "status": "ok",
     "timestamp": 1721868309571,
     "user_tz": 240,
     "elapsed": 7604,
     "user": {
      "displayName": "Abhi K",
      "userId": "12695307694684924321"
     }
    },
    "outputId": "6c9d36ac-b14f-4da1-905d-8122c8adf832"
   },
   "execution_count": null,
   "outputs": [
    {
     "output_type": "stream",
     "name": "stdout",
     "text": [
      "Requirement already satisfied: gspread in /usr/local/lib/python3.10/dist-packages (6.0.2)\n",
      "Requirement already satisfied: google-auth>=1.12.0 in /usr/local/lib/python3.10/dist-packages (from gspread) (2.27.0)\n",
      "Requirement already satisfied: google-auth-oauthlib>=0.4.1 in /usr/local/lib/python3.10/dist-packages (from gspread) (1.2.0)\n",
      "Requirement already satisfied: StrEnum==0.4.15 in /usr/local/lib/python3.10/dist-packages (from gspread) (0.4.15)\n",
      "Requirement already satisfied: cachetools<6.0,>=2.0.0 in /usr/local/lib/python3.10/dist-packages (from google-auth>=1.12.0->gspread) (5.3.3)\n",
      "Requirement already satisfied: pyasn1-modules>=0.2.1 in /usr/local/lib/python3.10/dist-packages (from google-auth>=1.12.0->gspread) (0.4.0)\n",
      "Requirement already satisfied: rsa<5,>=3.1.4 in /usr/local/lib/python3.10/dist-packages (from google-auth>=1.12.0->gspread) (4.9)\n",
      "Requirement already satisfied: requests-oauthlib>=0.7.0 in /usr/local/lib/python3.10/dist-packages (from google-auth-oauthlib>=0.4.1->gspread) (1.3.1)\n",
      "Requirement already satisfied: pyasn1<0.7.0,>=0.4.6 in /usr/local/lib/python3.10/dist-packages (from pyasn1-modules>=0.2.1->google-auth>=1.12.0->gspread) (0.6.0)\n",
      "Requirement already satisfied: oauthlib>=3.0.0 in /usr/local/lib/python3.10/dist-packages (from requests-oauthlib>=0.7.0->google-auth-oauthlib>=0.4.1->gspread) (3.2.2)\n",
      "Requirement already satisfied: requests>=2.0.0 in /usr/local/lib/python3.10/dist-packages (from requests-oauthlib>=0.7.0->google-auth-oauthlib>=0.4.1->gspread) (2.31.0)\n",
      "Requirement already satisfied: charset-normalizer<4,>=2 in /usr/local/lib/python3.10/dist-packages (from requests>=2.0.0->requests-oauthlib>=0.7.0->google-auth-oauthlib>=0.4.1->gspread) (3.3.2)\n",
      "Requirement already satisfied: idna<4,>=2.5 in /usr/local/lib/python3.10/dist-packages (from requests>=2.0.0->requests-oauthlib>=0.7.0->google-auth-oauthlib>=0.4.1->gspread) (3.7)\n",
      "Requirement already satisfied: urllib3<3,>=1.21.1 in /usr/local/lib/python3.10/dist-packages (from requests>=2.0.0->requests-oauthlib>=0.7.0->google-auth-oauthlib>=0.4.1->gspread) (2.0.7)\n",
      "Requirement already satisfied: certifi>=2017.4.17 in /usr/local/lib/python3.10/dist-packages (from requests>=2.0.0->requests-oauthlib>=0.7.0->google-auth-oauthlib>=0.4.1->gspread) (2024.2.2)\n"
     ]
    }
   ]
  },
  {
   "cell_type": "code",
   "source": [
    "from oauth2client.service_account import ServiceAccountCredentials\n"
   ],
   "metadata": {
    "id": "WahIefzGWTV-"
   },
   "execution_count": null,
   "outputs": []
  },
  {
   "cell_type": "code",
   "source": [
    "import gspread"
   ],
   "metadata": {
    "id": "Sr6GCBvAWnvZ"
   },
   "execution_count": null,
   "outputs": []
  },
  {
   "cell_type": "code",
   "source": [
    "import gspread\n",
    "scope = ['https://spreadsheets.google.com/feeds']\n",
    "credentials = ServiceAccountCredentials.from_json_keyfile_name('/content/drive/MyDrive/py/Dummy data for Lesson.gsheet/client_secret.json', scope)"
   ],
   "metadata": {
    "colab": {
     "base_uri": "https://localhost:8080/",
     "height": 280
    },
    "id": "VPjyVRG8WqRV",
    "executionInfo": {
     "status": "error",
     "timestamp": 1721868432115,
     "user_tz": 240,
     "elapsed": 252,
     "user": {
      "displayName": "Abhi K",
      "userId": "12695307694684924321"
     }
    },
    "outputId": "decca6a0-4e6e-4b33-e064-a95d3295feb4"
   },
   "execution_count": null,
   "outputs": [
    {
     "output_type": "error",
     "ename": "NotADirectoryError",
     "evalue": "[Errno 20] Not a directory: '/content/drive/MyDrive/py/Dummy data for Lesson.gsheet/client_secret.json'",
     "traceback": [
      "\u001B[0;31m---------------------------------------------------------------------------\u001B[0m",
      "\u001B[0;31mNotADirectoryError\u001B[0m                        Traceback (most recent call last)",
      "\u001B[0;32m<ipython-input-6-b03092dc76e7>\u001B[0m in \u001B[0;36m<cell line: 2>\u001B[0;34m()\u001B[0m\n\u001B[1;32m      1\u001B[0m \u001B[0mscope\u001B[0m \u001B[0;34m=\u001B[0m \u001B[0;34m[\u001B[0m\u001B[0;34m'https://spreadsheets.google.com/feeds'\u001B[0m\u001B[0;34m]\u001B[0m\u001B[0;34m\u001B[0m\u001B[0;34m\u001B[0m\u001B[0m\n\u001B[0;32m----> 2\u001B[0;31m \u001B[0mcredentials\u001B[0m \u001B[0;34m=\u001B[0m \u001B[0mServiceAccountCredentials\u001B[0m\u001B[0;34m.\u001B[0m\u001B[0mfrom_json_keyfile_name\u001B[0m\u001B[0;34m(\u001B[0m\u001B[0;34m'/content/drive/MyDrive/py/Dummy data for Lesson.gsheet/client_secret.json'\u001B[0m\u001B[0;34m,\u001B[0m \u001B[0mscope\u001B[0m\u001B[0;34m)\u001B[0m\u001B[0;34m\u001B[0m\u001B[0;34m\u001B[0m\u001B[0m\n\u001B[0m",
      "\u001B[0;32m/usr/local/lib/python3.10/dist-packages/oauth2client/service_account.py\u001B[0m in \u001B[0;36mfrom_json_keyfile_name\u001B[0;34m(cls, filename, scopes, token_uri, revoke_uri)\u001B[0m\n\u001B[1;32m    217\u001B[0m                 \u001B[0mthe\u001B[0m \u001B[0mkeyfile\u001B[0m\u001B[0;34m.\u001B[0m\u001B[0;34m\u001B[0m\u001B[0;34m\u001B[0m\u001B[0m\n\u001B[1;32m    218\u001B[0m         \"\"\"\n\u001B[0;32m--> 219\u001B[0;31m         \u001B[0;32mwith\u001B[0m \u001B[0mopen\u001B[0m\u001B[0;34m(\u001B[0m\u001B[0mfilename\u001B[0m\u001B[0;34m,\u001B[0m \u001B[0;34m'r'\u001B[0m\u001B[0;34m)\u001B[0m \u001B[0;32mas\u001B[0m \u001B[0mfile_obj\u001B[0m\u001B[0;34m:\u001B[0m\u001B[0;34m\u001B[0m\u001B[0;34m\u001B[0m\u001B[0m\n\u001B[0m\u001B[1;32m    220\u001B[0m             \u001B[0mclient_credentials\u001B[0m \u001B[0;34m=\u001B[0m \u001B[0mjson\u001B[0m\u001B[0;34m.\u001B[0m\u001B[0mload\u001B[0m\u001B[0;34m(\u001B[0m\u001B[0mfile_obj\u001B[0m\u001B[0;34m)\u001B[0m\u001B[0;34m\u001B[0m\u001B[0;34m\u001B[0m\u001B[0m\n\u001B[1;32m    221\u001B[0m         return cls._from_parsed_json_keyfile(client_credentials, scopes,\n",
      "\u001B[0;31mNotADirectoryError\u001B[0m: [Errno 20] Not a directory: '/content/drive/MyDrive/py/Dummy data for Lesson.gsheet/client_secret.json'"
     ]
    }
   ]
  },
  {
   "cell_type": "code",
   "source": [
    "import pandas as pd"
   ],
   "metadata": {
    "id": "jaC2ku7HWzDW"
   },
   "execution_count": null,
   "outputs": []
  },
  {
   "cell_type": "code",
   "source": [
    "file_path = 'Dummy data for Lesson.xlsx'\n",
    "xls = pd.ExcelFile(file_path)\n",
    "assembly_data = pd.read_excel(xls, sheet_name='pcba spec dataset')\n",
    "build_data = pd.read_excel(xls, sheet_name=1)"
   ],
   "metadata": {
    "id": "gjd4qH-XXRPw"
   },
   "execution_count": null,
   "outputs": []
  },
  {
   "cell_type": "code",
   "source": [
    "print(assembly_data)"
   ],
   "metadata": {
    "colab": {
     "base_uri": "https://localhost:8080/"
    },
    "id": "H8hXrc3vX0qb",
    "executionInfo": {
     "status": "ok",
     "timestamp": 1721868981494,
     "user_tz": 240,
     "elapsed": 175,
     "user": {
      "displayName": "Abhi K",
      "userId": "12695307694684924321"
     }
    },
    "outputId": "382c08ec-f3e3-4c86-999a-5caa77bbf746"
   },
   "execution_count": null,
   "outputs": [
    {
     "output_type": "stream",
     "name": "stdout",
     "text": [
      "   level  uniqueID  description              location  qty  uom\n",
      "0      0  300-1234  motherboard                   NaN  NaN  NaN\n",
      "1      1  100-0001         cap1            c1, c2, c3  3.0   ea\n",
      "2      1  100-0002         cap2                    c5  1.0   ea\n",
      "3      1  100-0003         res1                    r1  1.0   ea\n",
      "4      1  100-0004         ind1                    i1  1.0   ea\n",
      "5      1  100-0005         res2  r2, r3, r4, r56, r57  5.0   ea\n",
      "6      1  100-0006         ind2              i24, i27  2.0   ea\n",
      "7      1  100-0007         res5              r34, r35  2.0   ea\n",
      "8      1  200-0001          pcb                   NaN  1.0   ea\n"
     ]
    }
   ]
  },
  {
   "cell_type": "code",
   "source": [
    "assembly_data['location'] = assembly_data['location'].str.strip()\n",
    "\n",
    "assembly_data['location'] = assembly_data['location'].str.split(',')\n",
    "\n"
   ],
   "metadata": {
    "id": "JHSzdoETX2f4"
   },
   "execution_count": null,
   "outputs": []
  },
  {
   "cell_type": "code",
   "source": [
    "print(assembly_data)"
   ],
   "metadata": {
    "colab": {
     "base_uri": "https://localhost:8080/"
    },
    "id": "ZEt8AkxVYM1E",
    "executionInfo": {
     "status": "ok",
     "timestamp": 1721868992855,
     "user_tz": 240,
     "elapsed": 174,
     "user": {
      "displayName": "Abhi K",
      "userId": "12695307694684924321"
     }
    },
    "outputId": "d6f7094b-3210-4740-c119-942c718a151a"
   },
   "execution_count": null,
   "outputs": [
    {
     "output_type": "stream",
     "name": "stdout",
     "text": [
      "   level  uniqueID  description                    location  qty  uom\n",
      "0      0  300-1234  motherboard                         NaN  NaN  NaN\n",
      "1      1  100-0001         cap1              [c1,  c2,  c3]  3.0   ea\n",
      "2      1  100-0002         cap2                        [c5]  1.0   ea\n",
      "3      1  100-0003         res1                        [r1]  1.0   ea\n",
      "4      1  100-0004         ind1                        [i1]  1.0   ea\n",
      "5      1  100-0005         res2  [r2,  r3,  r4,  r56,  r57]  5.0   ea\n",
      "6      1  100-0006         ind2                 [i24,  i27]  2.0   ea\n",
      "7      1  100-0007         res5                 [r34,  r35]  2.0   ea\n",
      "8      1  200-0001          pcb                         NaN  1.0   ea\n"
     ]
    }
   ]
  },
  {
   "cell_type": "code",
   "source": [
    "exploded_assembly_data = assembly_data.explode('location').reset_index(drop = True)\n",
    "\n",
    "print(exploded_assembly_data)"
   ],
   "metadata": {
    "colab": {
     "base_uri": "https://localhost:8080/"
    },
    "id": "Xvqc49GRYOBl",
    "executionInfo": {
     "status": "ok",
     "timestamp": 1721869206439,
     "user_tz": 240,
     "elapsed": 149,
     "user": {
      "displayName": "Abhi K",
      "userId": "12695307694684924321"
     }
    },
    "outputId": "c1a09b42-3aba-4302-cbcd-f87f5c6d17fe"
   },
   "execution_count": null,
   "outputs": [
    {
     "output_type": "stream",
     "name": "stdout",
     "text": [
      "    level  uniqueID  description location  qty  uom\n",
      "0       0  300-1234  motherboard      NaN  NaN  NaN\n",
      "1       1  100-0001         cap1       c1  3.0   ea\n",
      "2       1  100-0001         cap1       c2  3.0   ea\n",
      "3       1  100-0001         cap1       c3  3.0   ea\n",
      "4       1  100-0002         cap2       c5  1.0   ea\n",
      "5       1  100-0003         res1       r1  1.0   ea\n",
      "6       1  100-0004         ind1       i1  1.0   ea\n",
      "7       1  100-0005         res2       r2  5.0   ea\n",
      "8       1  100-0005         res2       r3  5.0   ea\n",
      "9       1  100-0005         res2       r4  5.0   ea\n",
      "10      1  100-0005         res2      r56  5.0   ea\n",
      "11      1  100-0005         res2      r57  5.0   ea\n",
      "12      1  100-0006         ind2      i24  2.0   ea\n",
      "13      1  100-0006         ind2      i27  2.0   ea\n",
      "14      1  100-0007         res5      r34  2.0   ea\n",
      "15      1  100-0007         res5      r35  2.0   ea\n",
      "16      1  200-0001          pcb      NaN  1.0   ea\n"
     ]
    }
   ]
  },
  {
   "cell_type": "code",
   "source": [
    "explode_l1 = exploded_assembly_data[exploded_assembly_data['level'] ==1]"
   ],
   "metadata": {
    "id": "a1SDNH_jZwH-"
   },
   "execution_count": null,
   "outputs": []
  },
  {
   "cell_type": "code",
   "source": [
    "explode_leve"
   ],
   "metadata": {
    "colab": {
     "base_uri": "https://localhost:8080/",
     "height": 582
    },
    "id": "XkWahdQgZ5nk",
    "executionInfo": {
     "status": "ok",
     "timestamp": 1721869284777,
     "user_tz": 240,
     "elapsed": 188,
     "user": {
      "displayName": "Abhi K",
      "userId": "12695307694684924321"
     }
    },
    "outputId": "5b39a862-b3dd-4f44-b24b-72f13d3aaae5"
   },
   "execution_count": null,
   "outputs": [
    {
     "output_type": "execute_result",
     "data": {
      "text/plain": [
       "    level  uniqueID  description location  qty  uom\n",
       "0       0  300-1234  motherboard      NaN  NaN  NaN\n",
       "1       1  100-0001         cap1       c1  3.0   ea\n",
       "2       1  100-0001         cap1       c2  3.0   ea\n",
       "3       1  100-0001         cap1       c3  3.0   ea\n",
       "4       1  100-0002         cap2       c5  1.0   ea\n",
       "5       1  100-0003         res1       r1  1.0   ea\n",
       "6       1  100-0004         ind1       i1  1.0   ea\n",
       "7       1  100-0005         res2       r2  5.0   ea\n",
       "8       1  100-0005         res2       r3  5.0   ea\n",
       "9       1  100-0005         res2       r4  5.0   ea\n",
       "10      1  100-0005         res2      r56  5.0   ea\n",
       "11      1  100-0005         res2      r57  5.0   ea\n",
       "12      1  100-0006         ind2      i24  2.0   ea\n",
       "13      1  100-0006         ind2      i27  2.0   ea\n",
       "14      1  100-0007         res5      r34  2.0   ea\n",
       "15      1  100-0007         res5      r35  2.0   ea\n",
       "16      1  200-0001          pcb      NaN  1.0   ea"
      ],
      "text/html": [
       "\n",
       "  <div id=\"df-3efc3125-9b15-484c-b220-1affb194b5d4\" class=\"colab-df-container\">\n",
       "    <div>\n",
       "<style scoped>\n",
       "    .dataframe tbody tr th:only-of-type {\n",
       "        vertical-align: middle;\n",
       "    }\n",
       "\n",
       "    .dataframe tbody tr th {\n",
       "        vertical-align: top;\n",
       "    }\n",
       "\n",
       "    .dataframe thead th {\n",
       "        text-align: right;\n",
       "    }\n",
       "</style>\n",
       "<table border=\"1\" class=\"dataframe\">\n",
       "  <thead>\n",
       "    <tr style=\"text-align: right;\">\n",
       "      <th></th>\n",
       "      <th>level</th>\n",
       "      <th>uniqueID</th>\n",
       "      <th>description</th>\n",
       "      <th>location</th>\n",
       "      <th>qty</th>\n",
       "      <th>uom</th>\n",
       "    </tr>\n",
       "  </thead>\n",
       "  <tbody>\n",
       "    <tr>\n",
       "      <th>0</th>\n",
       "      <td>0</td>\n",
       "      <td>300-1234</td>\n",
       "      <td>motherboard</td>\n",
       "      <td>NaN</td>\n",
       "      <td>NaN</td>\n",
       "      <td>NaN</td>\n",
       "    </tr>\n",
       "    <tr>\n",
       "      <th>1</th>\n",
       "      <td>1</td>\n",
       "      <td>100-0001</td>\n",
       "      <td>cap1</td>\n",
       "      <td>c1</td>\n",
       "      <td>3.0</td>\n",
       "      <td>ea</td>\n",
       "    </tr>\n",
       "    <tr>\n",
       "      <th>2</th>\n",
       "      <td>1</td>\n",
       "      <td>100-0001</td>\n",
       "      <td>cap1</td>\n",
       "      <td>c2</td>\n",
       "      <td>3.0</td>\n",
       "      <td>ea</td>\n",
       "    </tr>\n",
       "    <tr>\n",
       "      <th>3</th>\n",
       "      <td>1</td>\n",
       "      <td>100-0001</td>\n",
       "      <td>cap1</td>\n",
       "      <td>c3</td>\n",
       "      <td>3.0</td>\n",
       "      <td>ea</td>\n",
       "    </tr>\n",
       "    <tr>\n",
       "      <th>4</th>\n",
       "      <td>1</td>\n",
       "      <td>100-0002</td>\n",
       "      <td>cap2</td>\n",
       "      <td>c5</td>\n",
       "      <td>1.0</td>\n",
       "      <td>ea</td>\n",
       "    </tr>\n",
       "    <tr>\n",
       "      <th>5</th>\n",
       "      <td>1</td>\n",
       "      <td>100-0003</td>\n",
       "      <td>res1</td>\n",
       "      <td>r1</td>\n",
       "      <td>1.0</td>\n",
       "      <td>ea</td>\n",
       "    </tr>\n",
       "    <tr>\n",
       "      <th>6</th>\n",
       "      <td>1</td>\n",
       "      <td>100-0004</td>\n",
       "      <td>ind1</td>\n",
       "      <td>i1</td>\n",
       "      <td>1.0</td>\n",
       "      <td>ea</td>\n",
       "    </tr>\n",
       "    <tr>\n",
       "      <th>7</th>\n",
       "      <td>1</td>\n",
       "      <td>100-0005</td>\n",
       "      <td>res2</td>\n",
       "      <td>r2</td>\n",
       "      <td>5.0</td>\n",
       "      <td>ea</td>\n",
       "    </tr>\n",
       "    <tr>\n",
       "      <th>8</th>\n",
       "      <td>1</td>\n",
       "      <td>100-0005</td>\n",
       "      <td>res2</td>\n",
       "      <td>r3</td>\n",
       "      <td>5.0</td>\n",
       "      <td>ea</td>\n",
       "    </tr>\n",
       "    <tr>\n",
       "      <th>9</th>\n",
       "      <td>1</td>\n",
       "      <td>100-0005</td>\n",
       "      <td>res2</td>\n",
       "      <td>r4</td>\n",
       "      <td>5.0</td>\n",
       "      <td>ea</td>\n",
       "    </tr>\n",
       "    <tr>\n",
       "      <th>10</th>\n",
       "      <td>1</td>\n",
       "      <td>100-0005</td>\n",
       "      <td>res2</td>\n",
       "      <td>r56</td>\n",
       "      <td>5.0</td>\n",
       "      <td>ea</td>\n",
       "    </tr>\n",
       "    <tr>\n",
       "      <th>11</th>\n",
       "      <td>1</td>\n",
       "      <td>100-0005</td>\n",
       "      <td>res2</td>\n",
       "      <td>r57</td>\n",
       "      <td>5.0</td>\n",
       "      <td>ea</td>\n",
       "    </tr>\n",
       "    <tr>\n",
       "      <th>12</th>\n",
       "      <td>1</td>\n",
       "      <td>100-0006</td>\n",
       "      <td>ind2</td>\n",
       "      <td>i24</td>\n",
       "      <td>2.0</td>\n",
       "      <td>ea</td>\n",
       "    </tr>\n",
       "    <tr>\n",
       "      <th>13</th>\n",
       "      <td>1</td>\n",
       "      <td>100-0006</td>\n",
       "      <td>ind2</td>\n",
       "      <td>i27</td>\n",
       "      <td>2.0</td>\n",
       "      <td>ea</td>\n",
       "    </tr>\n",
       "    <tr>\n",
       "      <th>14</th>\n",
       "      <td>1</td>\n",
       "      <td>100-0007</td>\n",
       "      <td>res5</td>\n",
       "      <td>r34</td>\n",
       "      <td>2.0</td>\n",
       "      <td>ea</td>\n",
       "    </tr>\n",
       "    <tr>\n",
       "      <th>15</th>\n",
       "      <td>1</td>\n",
       "      <td>100-0007</td>\n",
       "      <td>res5</td>\n",
       "      <td>r35</td>\n",
       "      <td>2.0</td>\n",
       "      <td>ea</td>\n",
       "    </tr>\n",
       "    <tr>\n",
       "      <th>16</th>\n",
       "      <td>1</td>\n",
       "      <td>200-0001</td>\n",
       "      <td>pcb</td>\n",
       "      <td>NaN</td>\n",
       "      <td>1.0</td>\n",
       "      <td>ea</td>\n",
       "    </tr>\n",
       "  </tbody>\n",
       "</table>\n",
       "</div>\n",
       "    <div class=\"colab-df-buttons\">\n",
       "\n",
       "  <div class=\"colab-df-container\">\n",
       "    <button class=\"colab-df-convert\" onclick=\"convertToInteractive('df-3efc3125-9b15-484c-b220-1affb194b5d4')\"\n",
       "            title=\"Convert this dataframe to an interactive table.\"\n",
       "            style=\"display:none;\">\n",
       "\n",
       "  <svg xmlns=\"http://www.w3.org/2000/svg\" height=\"24px\" viewBox=\"0 -960 960 960\">\n",
       "    <path d=\"M120-120v-720h720v720H120Zm60-500h600v-160H180v160Zm220 220h160v-160H400v160Zm0 220h160v-160H400v160ZM180-400h160v-160H180v160Zm440 0h160v-160H620v160ZM180-180h160v-160H180v160Zm440 0h160v-160H620v160Z\"/>\n",
       "  </svg>\n",
       "    </button>\n",
       "\n",
       "  <style>\n",
       "    .colab-df-container {\n",
       "      display:flex;\n",
       "      gap: 12px;\n",
       "    }\n",
       "\n",
       "    .colab-df-convert {\n",
       "      background-color: #E8F0FE;\n",
       "      border: none;\n",
       "      border-radius: 50%;\n",
       "      cursor: pointer;\n",
       "      display: none;\n",
       "      fill: #1967D2;\n",
       "      height: 32px;\n",
       "      padding: 0 0 0 0;\n",
       "      width: 32px;\n",
       "    }\n",
       "\n",
       "    .colab-df-convert:hover {\n",
       "      background-color: #E2EBFA;\n",
       "      box-shadow: 0px 1px 2px rgba(60, 64, 67, 0.3), 0px 1px 3px 1px rgba(60, 64, 67, 0.15);\n",
       "      fill: #174EA6;\n",
       "    }\n",
       "\n",
       "    .colab-df-buttons div {\n",
       "      margin-bottom: 4px;\n",
       "    }\n",
       "\n",
       "    [theme=dark] .colab-df-convert {\n",
       "      background-color: #3B4455;\n",
       "      fill: #D2E3FC;\n",
       "    }\n",
       "\n",
       "    [theme=dark] .colab-df-convert:hover {\n",
       "      background-color: #434B5C;\n",
       "      box-shadow: 0px 1px 3px 1px rgba(0, 0, 0, 0.15);\n",
       "      filter: drop-shadow(0px 1px 2px rgba(0, 0, 0, 0.3));\n",
       "      fill: #FFFFFF;\n",
       "    }\n",
       "  </style>\n",
       "\n",
       "    <script>\n",
       "      const buttonEl =\n",
       "        document.querySelector('#df-3efc3125-9b15-484c-b220-1affb194b5d4 button.colab-df-convert');\n",
       "      buttonEl.style.display =\n",
       "        google.colab.kernel.accessAllowed ? 'block' : 'none';\n",
       "\n",
       "      async function convertToInteractive(key) {\n",
       "        const element = document.querySelector('#df-3efc3125-9b15-484c-b220-1affb194b5d4');\n",
       "        const dataTable =\n",
       "          await google.colab.kernel.invokeFunction('convertToInteractive',\n",
       "                                                    [key], {});\n",
       "        if (!dataTable) return;\n",
       "\n",
       "        const docLinkHtml = 'Like what you see? Visit the ' +\n",
       "          '<a target=\"_blank\" href=https://colab.research.google.com/notebooks/data_table.ipynb>data table notebook</a>'\n",
       "          + ' to learn more about interactive tables.';\n",
       "        element.innerHTML = '';\n",
       "        dataTable['output_type'] = 'display_data';\n",
       "        await google.colab.output.renderOutput(dataTable, element);\n",
       "        const docLink = document.createElement('div');\n",
       "        docLink.innerHTML = docLinkHtml;\n",
       "        element.appendChild(docLink);\n",
       "      }\n",
       "    </script>\n",
       "  </div>\n",
       "\n",
       "\n",
       "<div id=\"df-5128fc90-8521-491f-ae28-88d31e80e42f\">\n",
       "  <button class=\"colab-df-quickchart\" onclick=\"quickchart('df-5128fc90-8521-491f-ae28-88d31e80e42f')\"\n",
       "            title=\"Suggest charts\"\n",
       "            style=\"display:none;\">\n",
       "\n",
       "<svg xmlns=\"http://www.w3.org/2000/svg\" height=\"24px\"viewBox=\"0 0 24 24\"\n",
       "     width=\"24px\">\n",
       "    <g>\n",
       "        <path d=\"M19 3H5c-1.1 0-2 .9-2 2v14c0 1.1.9 2 2 2h14c1.1 0 2-.9 2-2V5c0-1.1-.9-2-2-2zM9 17H7v-7h2v7zm4 0h-2V7h2v10zm4 0h-2v-4h2v4z\"/>\n",
       "    </g>\n",
       "</svg>\n",
       "  </button>\n",
       "\n",
       "<style>\n",
       "  .colab-df-quickchart {\n",
       "      --bg-color: #E8F0FE;\n",
       "      --fill-color: #1967D2;\n",
       "      --hover-bg-color: #E2EBFA;\n",
       "      --hover-fill-color: #174EA6;\n",
       "      --disabled-fill-color: #AAA;\n",
       "      --disabled-bg-color: #DDD;\n",
       "  }\n",
       "\n",
       "  [theme=dark] .colab-df-quickchart {\n",
       "      --bg-color: #3B4455;\n",
       "      --fill-color: #D2E3FC;\n",
       "      --hover-bg-color: #434B5C;\n",
       "      --hover-fill-color: #FFFFFF;\n",
       "      --disabled-bg-color: #3B4455;\n",
       "      --disabled-fill-color: #666;\n",
       "  }\n",
       "\n",
       "  .colab-df-quickchart {\n",
       "    background-color: var(--bg-color);\n",
       "    border: none;\n",
       "    border-radius: 50%;\n",
       "    cursor: pointer;\n",
       "    display: none;\n",
       "    fill: var(--fill-color);\n",
       "    height: 32px;\n",
       "    padding: 0;\n",
       "    width: 32px;\n",
       "  }\n",
       "\n",
       "  .colab-df-quickchart:hover {\n",
       "    background-color: var(--hover-bg-color);\n",
       "    box-shadow: 0 1px 2px rgba(60, 64, 67, 0.3), 0 1px 3px 1px rgba(60, 64, 67, 0.15);\n",
       "    fill: var(--button-hover-fill-color);\n",
       "  }\n",
       "\n",
       "  .colab-df-quickchart-complete:disabled,\n",
       "  .colab-df-quickchart-complete:disabled:hover {\n",
       "    background-color: var(--disabled-bg-color);\n",
       "    fill: var(--disabled-fill-color);\n",
       "    box-shadow: none;\n",
       "  }\n",
       "\n",
       "  .colab-df-spinner {\n",
       "    border: 2px solid var(--fill-color);\n",
       "    border-color: transparent;\n",
       "    border-bottom-color: var(--fill-color);\n",
       "    animation:\n",
       "      spin 1s steps(1) infinite;\n",
       "  }\n",
       "\n",
       "  @keyframes spin {\n",
       "    0% {\n",
       "      border-color: transparent;\n",
       "      border-bottom-color: var(--fill-color);\n",
       "      border-left-color: var(--fill-color);\n",
       "    }\n",
       "    20% {\n",
       "      border-color: transparent;\n",
       "      border-left-color: var(--fill-color);\n",
       "      border-top-color: var(--fill-color);\n",
       "    }\n",
       "    30% {\n",
       "      border-color: transparent;\n",
       "      border-left-color: var(--fill-color);\n",
       "      border-top-color: var(--fill-color);\n",
       "      border-right-color: var(--fill-color);\n",
       "    }\n",
       "    40% {\n",
       "      border-color: transparent;\n",
       "      border-right-color: var(--fill-color);\n",
       "      border-top-color: var(--fill-color);\n",
       "    }\n",
       "    60% {\n",
       "      border-color: transparent;\n",
       "      border-right-color: var(--fill-color);\n",
       "    }\n",
       "    80% {\n",
       "      border-color: transparent;\n",
       "      border-right-color: var(--fill-color);\n",
       "      border-bottom-color: var(--fill-color);\n",
       "    }\n",
       "    90% {\n",
       "      border-color: transparent;\n",
       "      border-bottom-color: var(--fill-color);\n",
       "    }\n",
       "  }\n",
       "</style>\n",
       "\n",
       "  <script>\n",
       "    async function quickchart(key) {\n",
       "      const quickchartButtonEl =\n",
       "        document.querySelector('#' + key + ' button');\n",
       "      quickchartButtonEl.disabled = true;  // To prevent multiple clicks.\n",
       "      quickchartButtonEl.classList.add('colab-df-spinner');\n",
       "      try {\n",
       "        const charts = await google.colab.kernel.invokeFunction(\n",
       "            'suggestCharts', [key], {});\n",
       "      } catch (error) {\n",
       "        console.error('Error during call to suggestCharts:', error);\n",
       "      }\n",
       "      quickchartButtonEl.classList.remove('colab-df-spinner');\n",
       "      quickchartButtonEl.classList.add('colab-df-quickchart-complete');\n",
       "    }\n",
       "    (() => {\n",
       "      let quickchartButtonEl =\n",
       "        document.querySelector('#df-5128fc90-8521-491f-ae28-88d31e80e42f button');\n",
       "      quickchartButtonEl.style.display =\n",
       "        google.colab.kernel.accessAllowed ? 'block' : 'none';\n",
       "    })();\n",
       "  </script>\n",
       "</div>\n",
       "\n",
       "  <div id=\"id_5f765946-d5e1-40c6-96f5-e03d2ba9cfa4\">\n",
       "    <style>\n",
       "      .colab-df-generate {\n",
       "        background-color: #E8F0FE;\n",
       "        border: none;\n",
       "        border-radius: 50%;\n",
       "        cursor: pointer;\n",
       "        display: none;\n",
       "        fill: #1967D2;\n",
       "        height: 32px;\n",
       "        padding: 0 0 0 0;\n",
       "        width: 32px;\n",
       "      }\n",
       "\n",
       "      .colab-df-generate:hover {\n",
       "        background-color: #E2EBFA;\n",
       "        box-shadow: 0px 1px 2px rgba(60, 64, 67, 0.3), 0px 1px 3px 1px rgba(60, 64, 67, 0.15);\n",
       "        fill: #174EA6;\n",
       "      }\n",
       "\n",
       "      [theme=dark] .colab-df-generate {\n",
       "        background-color: #3B4455;\n",
       "        fill: #D2E3FC;\n",
       "      }\n",
       "\n",
       "      [theme=dark] .colab-df-generate:hover {\n",
       "        background-color: #434B5C;\n",
       "        box-shadow: 0px 1px 3px 1px rgba(0, 0, 0, 0.15);\n",
       "        filter: drop-shadow(0px 1px 2px rgba(0, 0, 0, 0.3));\n",
       "        fill: #FFFFFF;\n",
       "      }\n",
       "    </style>\n",
       "    <button class=\"colab-df-generate\" onclick=\"generateWithVariable('exploded_assembly_data')\"\n",
       "            title=\"Generate code using this dataframe.\"\n",
       "            style=\"display:none;\">\n",
       "\n",
       "  <svg xmlns=\"http://www.w3.org/2000/svg\" height=\"24px\"viewBox=\"0 0 24 24\"\n",
       "       width=\"24px\">\n",
       "    <path d=\"M7,19H8.4L18.45,9,17,7.55,7,17.6ZM5,21V16.75L18.45,3.32a2,2,0,0,1,2.83,0l1.4,1.43a1.91,1.91,0,0,1,.58,1.4,1.91,1.91,0,0,1-.58,1.4L9.25,21ZM18.45,9,17,7.55Zm-12,3A5.31,5.31,0,0,0,4.9,8.1,5.31,5.31,0,0,0,1,6.5,5.31,5.31,0,0,0,4.9,4.9,5.31,5.31,0,0,0,6.5,1,5.31,5.31,0,0,0,8.1,4.9,5.31,5.31,0,0,0,12,6.5,5.46,5.46,0,0,0,6.5,12Z\"/>\n",
       "  </svg>\n",
       "    </button>\n",
       "    <script>\n",
       "      (() => {\n",
       "      const buttonEl =\n",
       "        document.querySelector('#id_5f765946-d5e1-40c6-96f5-e03d2ba9cfa4 button.colab-df-generate');\n",
       "      buttonEl.style.display =\n",
       "        google.colab.kernel.accessAllowed ? 'block' : 'none';\n",
       "\n",
       "      buttonEl.onclick = () => {\n",
       "        google.colab.notebook.generateWithVariable('exploded_assembly_data');\n",
       "      }\n",
       "      })();\n",
       "    </script>\n",
       "  </div>\n",
       "\n",
       "    </div>\n",
       "  </div>\n"
      ],
      "application/vnd.google.colaboratory.intrinsic+json": {
       "type": "dataframe",
       "variable_name": "exploded_assembly_data",
       "summary": "{\n  \"name\": \"exploded_assembly_data\",\n  \"rows\": 17,\n  \"fields\": [\n    {\n      \"column\": \"level\",\n      \"properties\": {\n        \"dtype\": \"number\",\n        \"std\": 0,\n        \"min\": 0,\n        \"max\": 1,\n        \"num_unique_values\": 2,\n        \"samples\": [\n          1,\n          0\n        ],\n        \"semantic_type\": \"\",\n        \"description\": \"\"\n      }\n    },\n    {\n      \"column\": \"uniqueID\",\n      \"properties\": {\n        \"dtype\": \"string\",\n        \"num_unique_values\": 9,\n        \"samples\": [\n          \"100-0007\",\n          \"100-0001\"\n        ],\n        \"semantic_type\": \"\",\n        \"description\": \"\"\n      }\n    },\n    {\n      \"column\": \"description\",\n      \"properties\": {\n        \"dtype\": \"string\",\n        \"num_unique_values\": 9,\n        \"samples\": [\n          \"res5\",\n          \"cap1\"\n        ],\n        \"semantic_type\": \"\",\n        \"description\": \"\"\n      }\n    },\n    {\n      \"column\": \"location\",\n      \"properties\": {\n        \"dtype\": \"string\",\n        \"num_unique_values\": 15,\n        \"samples\": [\n          \" r56\",\n          \"i24\"\n        ],\n        \"semantic_type\": \"\",\n        \"description\": \"\"\n      }\n    },\n    {\n      \"column\": \"qty\",\n      \"properties\": {\n        \"dtype\": \"number\",\n        \"std\": 1.6278820596099706,\n        \"min\": 1.0,\n        \"max\": 5.0,\n        \"num_unique_values\": 4,\n        \"samples\": [\n          1.0,\n          2.0\n        ],\n        \"semantic_type\": \"\",\n        \"description\": \"\"\n      }\n    },\n    {\n      \"column\": \"uom\",\n      \"properties\": {\n        \"dtype\": \"category\",\n        \"num_unique_values\": 1,\n        \"samples\": [\n          \"ea\"\n        ],\n        \"semantic_type\": \"\",\n        \"description\": \"\"\n      }\n    }\n  ]\n}"
      }
     },
     "metadata": {},
     "execution_count": 31
    }
   ]
  },
  {
   "cell_type": "code",
   "source": [],
   "metadata": {
    "id": "Pmld0il5aDP4"
   },
   "execution_count": null,
   "outputs": []
  }
 ]
}
