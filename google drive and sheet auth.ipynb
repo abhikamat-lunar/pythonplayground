{
 "nbformat": 4,
 "nbformat_minor": 0,
 "metadata": {
  "colab": {
   "provenance": [],
   "authorship_tag": "ABX9TyMUu82ub0fePd4xoGJihsGp"
  },
  "kernelspec": {
   "name": "python3",
   "display_name": "Python 3 (ipykernel)",
   "language": "python"
  },
  "language_info": {
   "name": "python"
  }
 },
 "cells": [
  {
   "cell_type": "code",
   "metadata": {
    "colab": {
     "base_uri": "https://localhost:8080/"
    },
    "id": "76cSRWYBTLr5",
    "executionInfo": {
     "status": "ok",
     "timestamp": 1722471641581,
     "user_tz": 240,
     "elapsed": 5810,
     "user": {
      "displayName": "Abhi K",
      "userId": "12695307694684924321"
     }
    },
    "outputId": "ddda1a45-2469-4366-8e42-f253948710c0"
   },
   "source": [
    "!pip install --upgrade gspread oauth2client\n",
    "!pip install gspread google-auth"
   ],
   "outputs": [],
   "execution_count": null
  },
  {
   "cell_type": "code",
   "source": [
    "import gspread\n",
    "from google.oauth2.service_account import Credentials\n",
    "import pandas as pd"
   ],
   "metadata": {
    "id": "aGesedSuT8UT"
   },
   "outputs": [],
   "execution_count": null
  },
  {
   "cell_type": "code",
   "source": [
    "# Path to your credentials file\n",
    "credentials_file = '/Users/abhimanyukamat/Documents/py/googleauth/intense-reactor-324805-2ef3adffe168.json'\n",
    "\n",
    "# Define the scope for accessing Google Sheets and Google Drive\n",
    "scope = [\"https://spreadsheets.google.com/feeds\", \"https://www.googleapis.com/auth/drive\"]\n",
    "\n",
    "# Load the credentials from the JSON file\n",
    "creds = Credentials.from_service_account_file(credentials_file, scopes=scope)\n",
    "\n",
    "# Authorize the client\n",
    "gc = gspread.authorize(creds)"
   ],
   "metadata": {
    "id": "5BPd7wvPUFJf",
    "executionInfo": {
     "status": "error",
     "timestamp": 1722601102907,
     "user_tz": 420,
     "elapsed": 550,
     "user": {
      "displayName": "Abhi K",
      "userId": "12695307694684924321"
     }
    },
    "outputId": "7196486c-8775-4d53-c5e7-2ef226bf2afb",
    "colab": {
     "base_uri": "https://localhost:8080/",
     "height": 207
    }
   },
   "outputs": [],
   "execution_count": null
  },
  {
   "cell_type": "code",
   "source": [
    "# Open the Google Sheet by name or URL\n",
    "sheet = gc.open_by_url('https://docs.google.com/spreadsheets/d/1NMtEtknTExjFNhjwtPx3PDUg1VWuda9BIuIIBVegfe4/edit?usp=sharing')\n",
    "\n",
    "# Select a worksheet by index or title\n",
    "worksheet = sheet.get_worksheet(2)\n",
    "\n",
    "# Extract and print all the values\n",
    "values = worksheet.get_all_values()"
   ],
   "metadata": {
    "colab": {
     "base_uri": "https://localhost:8080/"
    },
    "id": "h9ST7NIyUTI9",
    "executionInfo": {
     "status": "ok",
     "timestamp": 1722472270230,
     "user_tz": 240,
     "elapsed": 847,
     "user": {
      "displayName": "Abhi K",
      "userId": "12695307694684924321"
     }
    },
    "outputId": "23c800e7-59a5-42a5-cfa7-114632600537"
   },
   "outputs": [],
   "execution_count": null
  },
  {
   "cell_type": "code",
   "source": [
    "data = worksheet.get_all_records()"
   ],
   "metadata": {
    "id": "IWTt74nCU9ar"
   },
   "outputs": [],
   "execution_count": null
  },
  {
   "cell_type": "code",
   "source": [
    "print(data)"
   ],
   "metadata": {
    "colab": {
     "base_uri": "https://localhost:8080/"
    },
    "id": "Llxqh6LTWacs",
    "executionInfo": {
     "status": "ok",
     "timestamp": 1722472319641,
     "user_tz": 240,
     "elapsed": 180,
     "user": {
      "displayName": "Abhi K",
      "userId": "12695307694684924321"
     }
    },
    "outputId": "eba97cd0-f201-421f-f3f5-1a3ac71cc395"
   },
   "outputs": [],
   "execution_count": null
  },
  {
   "cell_type": "code",
   "source": [
    "df = pd.DataFrame(data)"
   ],
   "metadata": {
    "id": "OPzYdJTjWckk"
   },
   "outputs": [],
   "execution_count": null
  },
  {
   "cell_type": "code",
   "source": [
    "df"
   ],
   "metadata": {
    "colab": {
     "base_uri": "https://localhost:8080/",
     "height": 731
    },
    "id": "9HVosMNVWjk8",
    "executionInfo": {
     "status": "ok",
     "timestamp": 1722472361961,
     "user_tz": 240,
     "elapsed": 173,
     "user": {
      "displayName": "Abhi K",
      "userId": "12695307694684924321"
     }
    },
    "outputId": "6899f1e6-cdf4-4af5-c4c0-6d932638be2f"
   },
   "outputs": [],
   "execution_count": null
  },
  {
   "cell_type": "code",
   "source": [],
   "metadata": {
    "id": "TgzZ-7wGWm5f"
   },
   "outputs": [],
   "execution_count": null
  }
 ]
}
